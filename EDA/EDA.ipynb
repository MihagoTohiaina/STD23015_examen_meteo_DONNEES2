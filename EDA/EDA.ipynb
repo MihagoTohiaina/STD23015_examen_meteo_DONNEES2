{
  "cells": [
    {
      "cell_type": "markdown",
      "id": "c24d2dde",
      "metadata": {},
      "source": [
        "# EDA : Évolution Climatique des Grandes Villes\n",
        "**Problématique** : \n",
        "- Comment évolue le climat dans plusieurs grandes villes ?\n",
        "- Peut-on classer les villes selon leur stabilité, niveau de chaleur ou variabilité ?\n",
        "\n",
        "**Sources** : Données OpenWeather (actuelles) et Open-Meteo (historiques)"
      ]
    },
    {
      "cell_type": "code",
      "execution_count": 7,
      "id": "1e509781",
      "metadata": {},
      "outputs": [],
      "source": [
        "# Import des librairies\n",
        "import pandas as pd\n",
        "import numpy as np\n",
        "import matplotlib.pyplot as plt\n",
        "import seaborn as sns\n",
        "from IPython.display import display\n",
        "%matplotlib inline\n",
        "\n",
        "# Configuration\n",
        "plt.style.use('ggplot')\n",
        "sns.set_palette(\"husl\")\n",
        "pd.set_option('display.max_columns', 50)"
      ]
    },
    {
      "cell_type": "code",
      "execution_count": 17,
      "id": "3a1d3c56",
      "metadata": {},
      "outputs": [
        {
          "ename": "KeyError",
          "evalue": "'date'",
          "output_type": "error",
          "traceback": [
            "\u001b[31m---------------------------------------------------------------------------\u001b[39m",
            "\u001b[31mKeyError\u001b[39m                                  Traceback (most recent call last)",
            "\u001b[36mFile \u001b[39m\u001b[32mc:\\Users\\acer\\AppData\\Local\\Programs\\Python\\Python313\\Lib\\site-packages\\pandas\\core\\indexes\\base.py:3812\u001b[39m, in \u001b[36mIndex.get_loc\u001b[39m\u001b[34m(self, key)\u001b[39m\n\u001b[32m   3811\u001b[39m \u001b[38;5;28;01mtry\u001b[39;00m:\n\u001b[32m-> \u001b[39m\u001b[32m3812\u001b[39m     \u001b[38;5;28;01mreturn\u001b[39;00m \u001b[38;5;28;43mself\u001b[39;49m\u001b[43m.\u001b[49m\u001b[43m_engine\u001b[49m\u001b[43m.\u001b[49m\u001b[43mget_loc\u001b[49m\u001b[43m(\u001b[49m\u001b[43mcasted_key\u001b[49m\u001b[43m)\u001b[49m\n\u001b[32m   3813\u001b[39m \u001b[38;5;28;01mexcept\u001b[39;00m \u001b[38;5;167;01mKeyError\u001b[39;00m \u001b[38;5;28;01mas\u001b[39;00m err:\n",
            "\u001b[36mFile \u001b[39m\u001b[32mpandas/_libs/index.pyx:167\u001b[39m, in \u001b[36mpandas._libs.index.IndexEngine.get_loc\u001b[39m\u001b[34m()\u001b[39m\n",
            "\u001b[36mFile \u001b[39m\u001b[32mpandas/_libs/index.pyx:196\u001b[39m, in \u001b[36mpandas._libs.index.IndexEngine.get_loc\u001b[39m\u001b[34m()\u001b[39m\n",
            "\u001b[36mFile \u001b[39m\u001b[32mpandas/_libs/hashtable_class_helper.pxi:7088\u001b[39m, in \u001b[36mpandas._libs.hashtable.PyObjectHashTable.get_item\u001b[39m\u001b[34m()\u001b[39m\n",
            "\u001b[36mFile \u001b[39m\u001b[32mpandas/_libs/hashtable_class_helper.pxi:7096\u001b[39m, in \u001b[36mpandas._libs.hashtable.PyObjectHashTable.get_item\u001b[39m\u001b[34m()\u001b[39m\n",
            "\u001b[31mKeyError\u001b[39m: 'date'",
            "\nThe above exception was the direct cause of the following exception:\n",
            "\u001b[31mKeyError\u001b[39m                                  Traceback (most recent call last)",
            "\u001b[36mCell\u001b[39m\u001b[36m \u001b[39m\u001b[32mIn[17]\u001b[39m\u001b[32m, line 12\u001b[39m\n\u001b[32m     10\u001b[39m \u001b[38;5;66;03m# Fusion et préparation\u001b[39;00m\n\u001b[32m     11\u001b[39m df = pd.merge(fact_weather, dim_ville, on=\u001b[33m'\u001b[39m\u001b[33mville_id\u001b[39m\u001b[33m'\u001b[39m)\n\u001b[32m---> \u001b[39m\u001b[32m12\u001b[39m df[\u001b[33m'\u001b[39m\u001b[33mdate\u001b[39m\u001b[33m'\u001b[39m] = pd.to_datetime(\u001b[43mdf\u001b[49m\u001b[43m[\u001b[49m\u001b[33;43m'\u001b[39;49m\u001b[33;43mdate\u001b[39;49m\u001b[33;43m'\u001b[39;49m\u001b[43m]\u001b[49m)\n\u001b[32m     13\u001b[39m df[\u001b[33m'\u001b[39m\u001b[33mannee\u001b[39m\u001b[33m'\u001b[39m] = df[\u001b[33m'\u001b[39m\u001b[33mdate\u001b[39m\u001b[33m'\u001b[39m].dt.year\n\u001b[32m     14\u001b[39m df[\u001b[33m'\u001b[39m\u001b[33mmois\u001b[39m\u001b[33m'\u001b[39m] = df[\u001b[33m'\u001b[39m\u001b[33mdate\u001b[39m\u001b[33m'\u001b[39m].dt.month_name()\n",
            "\u001b[36mFile \u001b[39m\u001b[32mc:\\Users\\acer\\AppData\\Local\\Programs\\Python\\Python313\\Lib\\site-packages\\pandas\\core\\frame.py:4107\u001b[39m, in \u001b[36mDataFrame.__getitem__\u001b[39m\u001b[34m(self, key)\u001b[39m\n\u001b[32m   4105\u001b[39m \u001b[38;5;28;01mif\u001b[39;00m \u001b[38;5;28mself\u001b[39m.columns.nlevels > \u001b[32m1\u001b[39m:\n\u001b[32m   4106\u001b[39m     \u001b[38;5;28;01mreturn\u001b[39;00m \u001b[38;5;28mself\u001b[39m._getitem_multilevel(key)\n\u001b[32m-> \u001b[39m\u001b[32m4107\u001b[39m indexer = \u001b[38;5;28;43mself\u001b[39;49m\u001b[43m.\u001b[49m\u001b[43mcolumns\u001b[49m\u001b[43m.\u001b[49m\u001b[43mget_loc\u001b[49m\u001b[43m(\u001b[49m\u001b[43mkey\u001b[49m\u001b[43m)\u001b[49m\n\u001b[32m   4108\u001b[39m \u001b[38;5;28;01mif\u001b[39;00m is_integer(indexer):\n\u001b[32m   4109\u001b[39m     indexer = [indexer]\n",
            "\u001b[36mFile \u001b[39m\u001b[32mc:\\Users\\acer\\AppData\\Local\\Programs\\Python\\Python313\\Lib\\site-packages\\pandas\\core\\indexes\\base.py:3819\u001b[39m, in \u001b[36mIndex.get_loc\u001b[39m\u001b[34m(self, key)\u001b[39m\n\u001b[32m   3814\u001b[39m     \u001b[38;5;28;01mif\u001b[39;00m \u001b[38;5;28misinstance\u001b[39m(casted_key, \u001b[38;5;28mslice\u001b[39m) \u001b[38;5;129;01mor\u001b[39;00m (\n\u001b[32m   3815\u001b[39m         \u001b[38;5;28misinstance\u001b[39m(casted_key, abc.Iterable)\n\u001b[32m   3816\u001b[39m         \u001b[38;5;129;01mand\u001b[39;00m \u001b[38;5;28many\u001b[39m(\u001b[38;5;28misinstance\u001b[39m(x, \u001b[38;5;28mslice\u001b[39m) \u001b[38;5;28;01mfor\u001b[39;00m x \u001b[38;5;129;01min\u001b[39;00m casted_key)\n\u001b[32m   3817\u001b[39m     ):\n\u001b[32m   3818\u001b[39m         \u001b[38;5;28;01mraise\u001b[39;00m InvalidIndexError(key)\n\u001b[32m-> \u001b[39m\u001b[32m3819\u001b[39m     \u001b[38;5;28;01mraise\u001b[39;00m \u001b[38;5;167;01mKeyError\u001b[39;00m(key) \u001b[38;5;28;01mfrom\u001b[39;00m\u001b[38;5;250m \u001b[39m\u001b[34;01merr\u001b[39;00m\n\u001b[32m   3820\u001b[39m \u001b[38;5;28;01mexcept\u001b[39;00m \u001b[38;5;167;01mTypeError\u001b[39;00m:\n\u001b[32m   3821\u001b[39m     \u001b[38;5;66;03m# If we have a listlike key, _check_indexing_error will raise\u001b[39;00m\n\u001b[32m   3822\u001b[39m     \u001b[38;5;66;03m#  InvalidIndexError. Otherwise we fall through and re-raise\u001b[39;00m\n\u001b[32m   3823\u001b[39m     \u001b[38;5;66;03m#  the TypeError.\u001b[39;00m\n\u001b[32m   3824\u001b[39m     \u001b[38;5;28mself\u001b[39m._check_indexing_error(key)\n",
            "\u001b[31mKeyError\u001b[39m: 'date'"
          ]
        }
      ],
      "source": [
        "import pandas as pd\n",
        "import numpy as np\n",
        "import matplotlib.pyplot as plt\n",
        "import seaborn as sns\n",
        "from IPython.display import display\n",
        "# Chargement des données\n",
        "dim_ville = pd.read_csv(\"D:/DONNEES2/STD23015_examen_meteo_DONNEES2/data/star_schema/dim_ville.csv\")\n",
        "fact_weather = pd.read_csv(\"D:/DONNEES2/STD23015_examen_meteo_DONNEES2/data/star_schema/fact_weather.csv\")\n",
        "\n",
        "# Fusion et préparation\n",
        "df = pd.merge(fact_weather, dim_ville, on='ville_id')\n",
        "df['date'] = pd.to_datetime(df['date'])\n",
        "df['annee'] = df['date'].dt.year\n",
        "df['mois'] = df['date'].dt.month_name()\n",
        "\n",
        "# Ajout indicateurs climatiques\n",
        "df['amplitude_thermique'] = df['temp_max'] - df['temp_min']"
      ]
    },
    {
      "cell_type": "markdown",
      "id": "5d471f8a",
      "metadata": {},
      "source": [
        "## 1. Stabilité Climatique (Variabilité)"
      ]
    },
    {
      "cell_type": "code",
      "execution_count": null,
      "id": "64d14a44",
      "metadata": {},
      "outputs": [],
      "source": [
        "# Calcul de la variabilité\n",
        "stabilite = df.groupby('ville').agg({\n",
        "    'temperature': ['mean', 'std'],\n",
        "    'amplitude_thermique': 'mean'\n",
        "}).sort_values(('temperature', 'std'))\n",
        "\n",
        "# Visualisation\n",
        "plt.figure(figsize=(12, 6))\n",
        "sns.barplot(x=stabilite.index, y=stabilite[('temperature', 'std')])\n",
        "plt.title('Variabilité Climatique (Écart-type des Températures)')\n",
        "plt.ylabel('Écart-type (°C)')\n",
        "plt.xticks(rotation=45)\n",
        "plt.show()\n",
        "\n",
        "display(Markdown(\"### Classement par Stabilité (du plus stable au plus variable):\"))\n",
        "display(stabilite)"
      ]
    },
    {
      "cell_type": "markdown",
      "id": "911fb2b1",
      "metadata": {},
      "source": [
        "## 2. Niveau de Chaleur Moyen"
      ]
    },
    {
      "cell_type": "code",
      "execution_count": null,
      "id": "23082194",
      "metadata": {},
      "outputs": [],
      "source": [
        "# Températures moyennes annuelles\n",
        "chaleur = df.groupby(['ville', 'annee'])['temperature'].mean().unstack()\n",
        "\n",
        "# Visualisation\n",
        "plt.figure(figsize=(12, 6))\n",
        "chaleur.mean(axis=1).sort_values().plot(kind='barh', color='darkred')\n",
        "plt.title('Température Moyenne sur la Période')\n",
        "plt.xlabel('Température (°C)')\n",
        "plt.grid(True)\n",
        "plt.show()\n",
        "\n",
        "display(Markdown(\"### Évolution Annuelle:\"))\n",
        "chaleur.T.plot(figsize=(12, 6), title='Évolution des Températures Moyennes')\n",
        "plt.ylabel('Température (°C)')\n",
        "plt.show()"
      ]
    },
    {
      "cell_type": "markdown",
      "id": "4d41997d",
      "metadata": {},
      "source": [
        "## 3. Analyse des Tendances"
      ]
    },
    {
      "cell_type": "code",
      "execution_count": null,
      "id": "097c6f57",
      "metadata": {},
      "outputs": [],
      "source": [
        "# Calcul des tendances linéaires\n",
        "from scipy.stats import linregress\n",
        "\n",
        "resultats = []\n",
        "for ville in df['ville'].unique():\n",
        "    subset = df[df['ville'] == ville]\n",
        "    slope, _, _, _, _ = linregress(subset['annee'], subset['temperature'])\n",
        "    resultats.append({'Ville': ville, 'Tendance (°C/an)': round(slope, 3)})\n",
        "\n",
        "tendances = pd.DataFrame(resultats).sort_values('Tendance (°C/an)', ascending=False)\n",
        "\n",
        "# Visualisation\n",
        "plt.figure(figsize=(12, 6))\n",
        "sns.barplot(data=tendances, x='Ville', y='Tendance (°C/an)')\n",
        "plt.title('Tendance de Réchauffement par Ville')\n",
        "plt.xticks(rotation=45)\n",
        "plt.show()\n",
        "\n",
        "display(tendances)"
      ]
    },
    {
      "cell_type": "markdown",
      "id": "20e3b38d",
      "metadata": {},
      "source": [
        "## 4. Classification Intégrée"
      ]
    },
    {
      "cell_type": "code",
      "execution_count": 11,
      "id": "437eb0c5",
      "metadata": {},
      "outputs": [
        {
          "ename": "NameError",
          "evalue": "name 'df' is not defined",
          "output_type": "error",
          "traceback": [
            "\u001b[31m---------------------------------------------------------------------------\u001b[39m",
            "\u001b[31mNameError\u001b[39m                                 Traceback (most recent call last)",
            "\u001b[36mCell\u001b[39m\u001b[36m \u001b[39m\u001b[32mIn[11]\u001b[39m\u001b[32m, line 2\u001b[39m\n\u001b[32m      1\u001b[39m \u001b[38;5;66;03m# Création d'un score climatique\u001b[39;00m\n\u001b[32m----> \u001b[39m\u001b[32m2\u001b[39m classement = \u001b[43mdf\u001b[49m.groupby(\u001b[33m'\u001b[39m\u001b[33mville\u001b[39m\u001b[33m'\u001b[39m).agg({\n\u001b[32m      3\u001b[39m     \u001b[33m'\u001b[39m\u001b[33mtemperature\u001b[39m\u001b[33m'\u001b[39m: \u001b[33m'\u001b[39m\u001b[33mmean\u001b[39m\u001b[33m'\u001b[39m,\n\u001b[32m      4\u001b[39m     \u001b[33m'\u001b[39m\u001b[33mamplitude_thermique\u001b[39m\u001b[33m'\u001b[39m: \u001b[33m'\u001b[39m\u001b[33mmean\u001b[39m\u001b[33m'\u001b[39m,\n\u001b[32m      5\u001b[39m     \u001b[33m'\u001b[39m\u001b[33mprecipitation\u001b[39m\u001b[33m'\u001b[39m: \u001b[33m'\u001b[39m\u001b[33mmean\u001b[39m\u001b[33m'\u001b[39m\n\u001b[32m      6\u001b[39m })\n\u001b[32m      8\u001b[39m \u001b[38;5;66;03m# Normalisation\u001b[39;00m\n\u001b[32m      9\u001b[39m classement_norm = (classement - classement.mean()) / classement.std()\n",
            "\u001b[31mNameError\u001b[39m: name 'df' is not defined"
          ]
        }
      ],
      "source": [
        "# Création d'un score climatique\n",
        "classement = df.groupby('ville').agg({\n",
        "    'temperature': 'mean',\n",
        "    'amplitude_thermique': 'mean',\n",
        "    'precipitation': 'mean'\n",
        "})\n",
        "\n",
        "# Normalisation\n",
        "classement_norm = (classement - classement.mean()) / classement.std()\n",
        "\n",
        "# Visualisation radar\n",
        "from math import pi\n",
        "\n",
        "categories = classement_norm.columns\n",
        "N = len(categories)\n",
        "\n",
        "angles = [n / float(N) * 2 * pi for n in range(N)]\n",
        "angles += angles[:1]\n",
        "\n",
        "plt.figure(figsize=(10, 10))\n",
        "ax = plt.subplot(111, polar=True)\n",
        "ax.set_theta_offset(pi / 2)\n",
        "ax.set_theta_direction(-1)\n",
        "\n",
        "for ville in classement_norm.index:\n",
        "    values = classement_norm.loc[ville].values.flatten().tolist()\n",
        "    values += values[:1]\n",
        "    ax.plot(angles, values, linewidth=1, linestyle='solid', label=ville)\n",
        "    ax.fill(angles, values, alpha=0.1)\n",
        "\n",
        "plt.xticks(angles[:-1], categories)\n",
        "plt.title('Profil Climatique Comparé', y=1.1)\n",
        "plt.legend(loc='upper right', bbox_to_anchor=(1.3, 1.1))\n",
        "plt.show()"
      ]
    },
    {
      "cell_type": "markdown",
      "id": "5ac506ad",
      "metadata": {},
      "source": [
        "## 5. Conclusions"
      ]
    },
    {
      "cell_type": "markdown",
      "id": "1b8e831d",
      "metadata": {},
      "source": [
        "**Réponses à la problématique** :\n",
        "\n",
        "1. **Évolution climatique** :\n",
        "   - Tendance au réchauffement la plus marquée à [Ville] (+X°C/an)\n",
        "   - [Ville] montre la plus grande stabilité interannuelle\n",
        "\n",
        "2. **Classement des villes** :\n",
        "   - **Stabilité** : 1) [Ville1] (σ=X°C), 2) [Ville2], ...\n",
        "   - **Chaleur** : 1) [VilleA] (moy=X°C), 2) [VilleB], ...\n",
        "   - **Variabilité** : 1) [VilleX] (amplitude=Y°C), ...\n",
        "\n",
        "3. **Insights clés** :\n",
        "   - Correlation négative entre température et précipitations (r=-0.XX)\n",
        "   - [Ville] présente un profil climatique unique dû à [caractéristique]"
      ]
    }
  ],
  "metadata": {
    "kernelspec": {
      "display_name": "Python 3",
      "language": "python",
      "name": "python3"
    },
    "language_info": {
      "codemirror_mode": {
        "name": "ipython",
        "version": 3
      },
      "file_extension": ".py",
      "mimetype": "text/x-python",
      "name": "python",
      "nbconvert_exporter": "python",
      "pygments_lexer": "ipython3",
      "version": "3.13.5"
    }
  },
  "nbformat": 4,
  "nbformat_minor": 5
}
