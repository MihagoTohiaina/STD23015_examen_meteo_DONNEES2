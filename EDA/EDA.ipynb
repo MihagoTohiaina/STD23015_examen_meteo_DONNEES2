{
  "cells": [
    {
      "cell_type": "markdown",
      "id": "c24d2dde",
      "metadata": {},
      "source": [
        "# EDA : Évolution Climatique des Grandes Villes\n",
        "**Problématique** : \n",
        "- Comment évolue le climat dans plusieurs grandes villes ?\n",
        "- Peut-on classer les villes selon leur stabilité, niveau de chaleur ou variabilité ?\n",
        "\n",
        "**Sources** : Données OpenWeather (actuelles) et Open-Meteo (historiques)"
      ]
    },
    {
      "cell_type": "code",
      "execution_count": 1,
      "id": "1e509781",
      "metadata": {},
      "outputs": [
        {
          "name": "stderr",
          "output_type": "stream",
          "text": [
            "Matplotlib is building the font cache; this may take a moment.\n"
          ]
        }
      ],
      "source": [
        "# Import des librairies\n",
        "import pandas as pd\n",
        "import numpy as np\n",
        "import matplotlib.pyplot as plt\n",
        "import seaborn as sns\n",
        "from IPython.display import display\n",
        "%matplotlib inline\n",
        "\n",
        "# Configuration\n",
        "plt.style.use('ggplot')\n",
        "sns.set_palette(\"husl\")\n",
        "pd.set_option('display.max_columns', 50)"
      ]
    },
    {
      "cell_type": "code",
      "execution_count": 5,
      "id": "3a1d3c56",
      "metadata": {},
      "outputs": [
        {
          "ename": "FileNotFoundError",
          "evalue": "[Errno 2] No such file or directory: 'data/star_schema/dim_ville.csv'",
          "output_type": "error",
          "traceback": [
            "\u001b[31m---------------------------------------------------------------------------\u001b[39m",
            "\u001b[31mFileNotFoundError\u001b[39m                         Traceback (most recent call last)",
            "\u001b[36mCell\u001b[39m\u001b[36m \u001b[39m\u001b[32mIn[5]\u001b[39m\u001b[32m, line 2\u001b[39m\n\u001b[32m      1\u001b[39m \u001b[38;5;66;03m# Chargement des données\u001b[39;00m\n\u001b[32m----> \u001b[39m\u001b[32m2\u001b[39m dim_ville = \u001b[43mpd\u001b[49m\u001b[43m.\u001b[49m\u001b[43mread_csv\u001b[49m\u001b[43m(\u001b[49m\u001b[33;43m\"\u001b[39;49m\u001b[33;43mdata/star_schema/dim_ville.csv\u001b[39;49m\u001b[33;43m\"\u001b[39;49m\u001b[43m)\u001b[49m\n\u001b[32m      3\u001b[39m fact_weather = pd.read_csv(\u001b[33m\"\u001b[39m\u001b[33mdata/star_schema/fact_weather.csv\u001b[39m\u001b[33m\"\u001b[39m)\n\u001b[32m      5\u001b[39m \u001b[38;5;66;03m# Fusion et préparation\u001b[39;00m\n",
            "\u001b[36mFile \u001b[39m\u001b[32mc:\\Users\\acer\\AppData\\Local\\Programs\\Python\\Python313\\Lib\\site-packages\\pandas\\io\\parsers\\readers.py:1026\u001b[39m, in \u001b[36mread_csv\u001b[39m\u001b[34m(filepath_or_buffer, sep, delimiter, header, names, index_col, usecols, dtype, engine, converters, true_values, false_values, skipinitialspace, skiprows, skipfooter, nrows, na_values, keep_default_na, na_filter, verbose, skip_blank_lines, parse_dates, infer_datetime_format, keep_date_col, date_parser, date_format, dayfirst, cache_dates, iterator, chunksize, compression, thousands, decimal, lineterminator, quotechar, quoting, doublequote, escapechar, comment, encoding, encoding_errors, dialect, on_bad_lines, delim_whitespace, low_memory, memory_map, float_precision, storage_options, dtype_backend)\u001b[39m\n\u001b[32m   1013\u001b[39m kwds_defaults = _refine_defaults_read(\n\u001b[32m   1014\u001b[39m     dialect,\n\u001b[32m   1015\u001b[39m     delimiter,\n\u001b[32m   (...)\u001b[39m\u001b[32m   1022\u001b[39m     dtype_backend=dtype_backend,\n\u001b[32m   1023\u001b[39m )\n\u001b[32m   1024\u001b[39m kwds.update(kwds_defaults)\n\u001b[32m-> \u001b[39m\u001b[32m1026\u001b[39m \u001b[38;5;28;01mreturn\u001b[39;00m \u001b[43m_read\u001b[49m\u001b[43m(\u001b[49m\u001b[43mfilepath_or_buffer\u001b[49m\u001b[43m,\u001b[49m\u001b[43m \u001b[49m\u001b[43mkwds\u001b[49m\u001b[43m)\u001b[49m\n",
            "\u001b[36mFile \u001b[39m\u001b[32mc:\\Users\\acer\\AppData\\Local\\Programs\\Python\\Python313\\Lib\\site-packages\\pandas\\io\\parsers\\readers.py:620\u001b[39m, in \u001b[36m_read\u001b[39m\u001b[34m(filepath_or_buffer, kwds)\u001b[39m\n\u001b[32m    617\u001b[39m _validate_names(kwds.get(\u001b[33m\"\u001b[39m\u001b[33mnames\u001b[39m\u001b[33m\"\u001b[39m, \u001b[38;5;28;01mNone\u001b[39;00m))\n\u001b[32m    619\u001b[39m \u001b[38;5;66;03m# Create the parser.\u001b[39;00m\n\u001b[32m--> \u001b[39m\u001b[32m620\u001b[39m parser = \u001b[43mTextFileReader\u001b[49m\u001b[43m(\u001b[49m\u001b[43mfilepath_or_buffer\u001b[49m\u001b[43m,\u001b[49m\u001b[43m \u001b[49m\u001b[43m*\u001b[49m\u001b[43m*\u001b[49m\u001b[43mkwds\u001b[49m\u001b[43m)\u001b[49m\n\u001b[32m    622\u001b[39m \u001b[38;5;28;01mif\u001b[39;00m chunksize \u001b[38;5;129;01mor\u001b[39;00m iterator:\n\u001b[32m    623\u001b[39m     \u001b[38;5;28;01mreturn\u001b[39;00m parser\n",
            "\u001b[36mFile \u001b[39m\u001b[32mc:\\Users\\acer\\AppData\\Local\\Programs\\Python\\Python313\\Lib\\site-packages\\pandas\\io\\parsers\\readers.py:1620\u001b[39m, in \u001b[36mTextFileReader.__init__\u001b[39m\u001b[34m(self, f, engine, **kwds)\u001b[39m\n\u001b[32m   1617\u001b[39m     \u001b[38;5;28mself\u001b[39m.options[\u001b[33m\"\u001b[39m\u001b[33mhas_index_names\u001b[39m\u001b[33m\"\u001b[39m] = kwds[\u001b[33m\"\u001b[39m\u001b[33mhas_index_names\u001b[39m\u001b[33m\"\u001b[39m]\n\u001b[32m   1619\u001b[39m \u001b[38;5;28mself\u001b[39m.handles: IOHandles | \u001b[38;5;28;01mNone\u001b[39;00m = \u001b[38;5;28;01mNone\u001b[39;00m\n\u001b[32m-> \u001b[39m\u001b[32m1620\u001b[39m \u001b[38;5;28mself\u001b[39m._engine = \u001b[38;5;28;43mself\u001b[39;49m\u001b[43m.\u001b[49m\u001b[43m_make_engine\u001b[49m\u001b[43m(\u001b[49m\u001b[43mf\u001b[49m\u001b[43m,\u001b[49m\u001b[43m \u001b[49m\u001b[38;5;28;43mself\u001b[39;49m\u001b[43m.\u001b[49m\u001b[43mengine\u001b[49m\u001b[43m)\u001b[49m\n",
            "\u001b[36mFile \u001b[39m\u001b[32mc:\\Users\\acer\\AppData\\Local\\Programs\\Python\\Python313\\Lib\\site-packages\\pandas\\io\\parsers\\readers.py:1880\u001b[39m, in \u001b[36mTextFileReader._make_engine\u001b[39m\u001b[34m(self, f, engine)\u001b[39m\n\u001b[32m   1878\u001b[39m     \u001b[38;5;28;01mif\u001b[39;00m \u001b[33m\"\u001b[39m\u001b[33mb\u001b[39m\u001b[33m\"\u001b[39m \u001b[38;5;129;01mnot\u001b[39;00m \u001b[38;5;129;01min\u001b[39;00m mode:\n\u001b[32m   1879\u001b[39m         mode += \u001b[33m\"\u001b[39m\u001b[33mb\u001b[39m\u001b[33m\"\u001b[39m\n\u001b[32m-> \u001b[39m\u001b[32m1880\u001b[39m \u001b[38;5;28mself\u001b[39m.handles = \u001b[43mget_handle\u001b[49m\u001b[43m(\u001b[49m\n\u001b[32m   1881\u001b[39m \u001b[43m    \u001b[49m\u001b[43mf\u001b[49m\u001b[43m,\u001b[49m\n\u001b[32m   1882\u001b[39m \u001b[43m    \u001b[49m\u001b[43mmode\u001b[49m\u001b[43m,\u001b[49m\n\u001b[32m   1883\u001b[39m \u001b[43m    \u001b[49m\u001b[43mencoding\u001b[49m\u001b[43m=\u001b[49m\u001b[38;5;28;43mself\u001b[39;49m\u001b[43m.\u001b[49m\u001b[43moptions\u001b[49m\u001b[43m.\u001b[49m\u001b[43mget\u001b[49m\u001b[43m(\u001b[49m\u001b[33;43m\"\u001b[39;49m\u001b[33;43mencoding\u001b[39;49m\u001b[33;43m\"\u001b[39;49m\u001b[43m,\u001b[49m\u001b[43m \u001b[49m\u001b[38;5;28;43;01mNone\u001b[39;49;00m\u001b[43m)\u001b[49m\u001b[43m,\u001b[49m\n\u001b[32m   1884\u001b[39m \u001b[43m    \u001b[49m\u001b[43mcompression\u001b[49m\u001b[43m=\u001b[49m\u001b[38;5;28;43mself\u001b[39;49m\u001b[43m.\u001b[49m\u001b[43moptions\u001b[49m\u001b[43m.\u001b[49m\u001b[43mget\u001b[49m\u001b[43m(\u001b[49m\u001b[33;43m\"\u001b[39;49m\u001b[33;43mcompression\u001b[39;49m\u001b[33;43m\"\u001b[39;49m\u001b[43m,\u001b[49m\u001b[43m \u001b[49m\u001b[38;5;28;43;01mNone\u001b[39;49;00m\u001b[43m)\u001b[49m\u001b[43m,\u001b[49m\n\u001b[32m   1885\u001b[39m \u001b[43m    \u001b[49m\u001b[43mmemory_map\u001b[49m\u001b[43m=\u001b[49m\u001b[38;5;28;43mself\u001b[39;49m\u001b[43m.\u001b[49m\u001b[43moptions\u001b[49m\u001b[43m.\u001b[49m\u001b[43mget\u001b[49m\u001b[43m(\u001b[49m\u001b[33;43m\"\u001b[39;49m\u001b[33;43mmemory_map\u001b[39;49m\u001b[33;43m\"\u001b[39;49m\u001b[43m,\u001b[49m\u001b[43m \u001b[49m\u001b[38;5;28;43;01mFalse\u001b[39;49;00m\u001b[43m)\u001b[49m\u001b[43m,\u001b[49m\n\u001b[32m   1886\u001b[39m \u001b[43m    \u001b[49m\u001b[43mis_text\u001b[49m\u001b[43m=\u001b[49m\u001b[43mis_text\u001b[49m\u001b[43m,\u001b[49m\n\u001b[32m   1887\u001b[39m \u001b[43m    \u001b[49m\u001b[43merrors\u001b[49m\u001b[43m=\u001b[49m\u001b[38;5;28;43mself\u001b[39;49m\u001b[43m.\u001b[49m\u001b[43moptions\u001b[49m\u001b[43m.\u001b[49m\u001b[43mget\u001b[49m\u001b[43m(\u001b[49m\u001b[33;43m\"\u001b[39;49m\u001b[33;43mencoding_errors\u001b[39;49m\u001b[33;43m\"\u001b[39;49m\u001b[43m,\u001b[49m\u001b[43m \u001b[49m\u001b[33;43m\"\u001b[39;49m\u001b[33;43mstrict\u001b[39;49m\u001b[33;43m\"\u001b[39;49m\u001b[43m)\u001b[49m\u001b[43m,\u001b[49m\n\u001b[32m   1888\u001b[39m \u001b[43m    \u001b[49m\u001b[43mstorage_options\u001b[49m\u001b[43m=\u001b[49m\u001b[38;5;28;43mself\u001b[39;49m\u001b[43m.\u001b[49m\u001b[43moptions\u001b[49m\u001b[43m.\u001b[49m\u001b[43mget\u001b[49m\u001b[43m(\u001b[49m\u001b[33;43m\"\u001b[39;49m\u001b[33;43mstorage_options\u001b[39;49m\u001b[33;43m\"\u001b[39;49m\u001b[43m,\u001b[49m\u001b[43m \u001b[49m\u001b[38;5;28;43;01mNone\u001b[39;49;00m\u001b[43m)\u001b[49m\u001b[43m,\u001b[49m\n\u001b[32m   1889\u001b[39m \u001b[43m\u001b[49m\u001b[43m)\u001b[49m\n\u001b[32m   1890\u001b[39m \u001b[38;5;28;01massert\u001b[39;00m \u001b[38;5;28mself\u001b[39m.handles \u001b[38;5;129;01mis\u001b[39;00m \u001b[38;5;129;01mnot\u001b[39;00m \u001b[38;5;28;01mNone\u001b[39;00m\n\u001b[32m   1891\u001b[39m f = \u001b[38;5;28mself\u001b[39m.handles.handle\n",
            "\u001b[36mFile \u001b[39m\u001b[32mc:\\Users\\acer\\AppData\\Local\\Programs\\Python\\Python313\\Lib\\site-packages\\pandas\\io\\common.py:873\u001b[39m, in \u001b[36mget_handle\u001b[39m\u001b[34m(path_or_buf, mode, encoding, compression, memory_map, is_text, errors, storage_options)\u001b[39m\n\u001b[32m    868\u001b[39m \u001b[38;5;28;01melif\u001b[39;00m \u001b[38;5;28misinstance\u001b[39m(handle, \u001b[38;5;28mstr\u001b[39m):\n\u001b[32m    869\u001b[39m     \u001b[38;5;66;03m# Check whether the filename is to be opened in binary mode.\u001b[39;00m\n\u001b[32m    870\u001b[39m     \u001b[38;5;66;03m# Binary mode does not support 'encoding' and 'newline'.\u001b[39;00m\n\u001b[32m    871\u001b[39m     \u001b[38;5;28;01mif\u001b[39;00m ioargs.encoding \u001b[38;5;129;01mand\u001b[39;00m \u001b[33m\"\u001b[39m\u001b[33mb\u001b[39m\u001b[33m\"\u001b[39m \u001b[38;5;129;01mnot\u001b[39;00m \u001b[38;5;129;01min\u001b[39;00m ioargs.mode:\n\u001b[32m    872\u001b[39m         \u001b[38;5;66;03m# Encoding\u001b[39;00m\n\u001b[32m--> \u001b[39m\u001b[32m873\u001b[39m         handle = \u001b[38;5;28;43mopen\u001b[39;49m\u001b[43m(\u001b[49m\n\u001b[32m    874\u001b[39m \u001b[43m            \u001b[49m\u001b[43mhandle\u001b[49m\u001b[43m,\u001b[49m\n\u001b[32m    875\u001b[39m \u001b[43m            \u001b[49m\u001b[43mioargs\u001b[49m\u001b[43m.\u001b[49m\u001b[43mmode\u001b[49m\u001b[43m,\u001b[49m\n\u001b[32m    876\u001b[39m \u001b[43m            \u001b[49m\u001b[43mencoding\u001b[49m\u001b[43m=\u001b[49m\u001b[43mioargs\u001b[49m\u001b[43m.\u001b[49m\u001b[43mencoding\u001b[49m\u001b[43m,\u001b[49m\n\u001b[32m    877\u001b[39m \u001b[43m            \u001b[49m\u001b[43merrors\u001b[49m\u001b[43m=\u001b[49m\u001b[43merrors\u001b[49m\u001b[43m,\u001b[49m\n\u001b[32m    878\u001b[39m \u001b[43m            \u001b[49m\u001b[43mnewline\u001b[49m\u001b[43m=\u001b[49m\u001b[33;43m\"\u001b[39;49m\u001b[33;43m\"\u001b[39;49m\u001b[43m,\u001b[49m\n\u001b[32m    879\u001b[39m \u001b[43m        \u001b[49m\u001b[43m)\u001b[49m\n\u001b[32m    880\u001b[39m     \u001b[38;5;28;01melse\u001b[39;00m:\n\u001b[32m    881\u001b[39m         \u001b[38;5;66;03m# Binary mode\u001b[39;00m\n\u001b[32m    882\u001b[39m         handle = \u001b[38;5;28mopen\u001b[39m(handle, ioargs.mode)\n",
            "\u001b[31mFileNotFoundError\u001b[39m: [Errno 2] No such file or directory: 'data/star_schema/dim_ville.csv'"
          ]
        }
      ],
      "source": [
        "# Chargement des données\n",
        "dim_ville = pd.read_csv(\"data/star_schema/dim_ville.csv\")\n",
        "fact_weather = pd.read_csv(\"data/star_schema/fact_weather.csv\")\n",
        "\n",
        "# Fusion et préparation\n",
        "df = pd.merge(fact_weather, dim_ville, on='ville_id')\n",
        "df['date'] = pd.to_datetime(df['date'])\n",
        "df['annee'] = df['date'].dt.year\n",
        "df['mois'] = df['date'].dt.month_name()\n",
        "\n",
        "# Ajout indicateurs climatiques\n",
        "df['amplitude_thermique'] = df['temp_max'] - df['temp_min']"
      ]
    },
    {
      "cell_type": "markdown",
      "id": "5d471f8a",
      "metadata": {},
      "source": [
        "## 1. Stabilité Climatique (Variabilité)"
      ]
    },
    {
      "cell_type": "code",
      "execution_count": null,
      "id": "64d14a44",
      "metadata": {},
      "outputs": [],
      "source": [
        "# Calcul de la variabilité\n",
        "stabilite = df.groupby('ville').agg({\n",
        "    'temperature': ['mean', 'std'],\n",
        "    'amplitude_thermique': 'mean'\n",
        "}).sort_values(('temperature', 'std'))\n",
        "\n",
        "# Visualisation\n",
        "plt.figure(figsize=(12, 6))\n",
        "sns.barplot(x=stabilite.index, y=stabilite[('temperature', 'std')])\n",
        "plt.title('Variabilité Climatique (Écart-type des Températures)')\n",
        "plt.ylabel('Écart-type (°C)')\n",
        "plt.xticks(rotation=45)\n",
        "plt.show()\n",
        "\n",
        "display(Markdown(\"### Classement par Stabilité (du plus stable au plus variable):\"))\n",
        "display(stabilite)"
      ]
    },
    {
      "cell_type": "markdown",
      "id": "911fb2b1",
      "metadata": {},
      "source": [
        "## 2. Niveau de Chaleur Moyen"
      ]
    },
    {
      "cell_type": "code",
      "execution_count": null,
      "id": "23082194",
      "metadata": {},
      "outputs": [],
      "source": [
        "# Températures moyennes annuelles\n",
        "chaleur = df.groupby(['ville', 'annee'])['temperature'].mean().unstack()\n",
        "\n",
        "# Visualisation\n",
        "plt.figure(figsize=(12, 6))\n",
        "chaleur.mean(axis=1).sort_values().plot(kind='barh', color='darkred')\n",
        "plt.title('Température Moyenne sur la Période')\n",
        "plt.xlabel('Température (°C)')\n",
        "plt.grid(True)\n",
        "plt.show()\n",
        "\n",
        "display(Markdown(\"### Évolution Annuelle:\"))\n",
        "chaleur.T.plot(figsize=(12, 6), title='Évolution des Températures Moyennes')\n",
        "plt.ylabel('Température (°C)')\n",
        "plt.show()"
      ]
    },
    {
      "cell_type": "markdown",
      "id": "4d41997d",
      "metadata": {},
      "source": [
        "## 3. Analyse des Tendances"
      ]
    },
    {
      "cell_type": "code",
      "execution_count": null,
      "id": "097c6f57",
      "metadata": {},
      "outputs": [],
      "source": [
        "# Calcul des tendances linéaires\n",
        "from scipy.stats import linregress\n",
        "\n",
        "resultats = []\n",
        "for ville in df['ville'].unique():\n",
        "    subset = df[df['ville'] == ville]\n",
        "    slope, _, _, _, _ = linregress(subset['annee'], subset['temperature'])\n",
        "    resultats.append({'Ville': ville, 'Tendance (°C/an)': round(slope, 3)})\n",
        "\n",
        "tendances = pd.DataFrame(resultats).sort_values('Tendance (°C/an)', ascending=False)\n",
        "\n",
        "# Visualisation\n",
        "plt.figure(figsize=(12, 6))\n",
        "sns.barplot(data=tendances, x='Ville', y='Tendance (°C/an)')\n",
        "plt.title('Tendance de Réchauffement par Ville')\n",
        "plt.xticks(rotation=45)\n",
        "plt.show()\n",
        "\n",
        "display(tendances)"
      ]
    },
    {
      "cell_type": "markdown",
      "id": "20e3b38d",
      "metadata": {},
      "source": [
        "## 4. Classification Intégrée"
      ]
    },
    {
      "cell_type": "code",
      "execution_count": null,
      "id": "437eb0c5",
      "metadata": {},
      "outputs": [],
      "source": [
        "# Création d'un score climatique\n",
        "classement = df.groupby('ville').agg({\n",
        "    'temperature': 'mean',\n",
        "    'amplitude_thermique': 'mean',\n",
        "    'precipitation': 'mean'\n",
        "})\n",
        "\n",
        "# Normalisation\n",
        "classement_norm = (classement - classement.mean()) / classement.std()\n",
        "\n",
        "# Visualisation radar\n",
        "from math import pi\n",
        "\n",
        "categories = classement_norm.columns\n",
        "N = len(categories)\n",
        "\n",
        "angles = [n / float(N) * 2 * pi for n in range(N)]\n",
        "angles += angles[:1]\n",
        "\n",
        "plt.figure(figsize=(10, 10))\n",
        "ax = plt.subplot(111, polar=True)\n",
        "ax.set_theta_offset(pi / 2)\n",
        "ax.set_theta_direction(-1)\n",
        "\n",
        "for ville in classement_norm.index:\n",
        "    values = classement_norm.loc[ville].values.flatten().tolist()\n",
        "    values += values[:1]\n",
        "    ax.plot(angles, values, linewidth=1, linestyle='solid', label=ville)\n",
        "    ax.fill(angles, values, alpha=0.1)\n",
        "\n",
        "plt.xticks(angles[:-1], categories)\n",
        "plt.title('Profil Climatique Comparé', y=1.1)\n",
        "plt.legend(loc='upper right', bbox_to_anchor=(1.3, 1.1))\n",
        "plt.show()"
      ]
    },
    {
      "cell_type": "markdown",
      "id": "5ac506ad",
      "metadata": {},
      "source": [
        "## 5. Conclusions"
      ]
    },
    {
      "cell_type": "markdown",
      "id": "1b8e831d",
      "metadata": {},
      "source": [
        "**Réponses à la problématique** :\n",
        "\n",
        "1. **Évolution climatique** :\n",
        "   - Tendance au réchauffement la plus marquée à [Ville] (+X°C/an)\n",
        "   - [Ville] montre la plus grande stabilité interannuelle\n",
        "\n",
        "2. **Classement des villes** :\n",
        "   - **Stabilité** : 1) [Ville1] (σ=X°C), 2) [Ville2], ...\n",
        "   - **Chaleur** : 1) [VilleA] (moy=X°C), 2) [VilleB], ...\n",
        "   - **Variabilité** : 1) [VilleX] (amplitude=Y°C), ...\n",
        "\n",
        "3. **Insights clés** :\n",
        "   - Correlation négative entre température et précipitations (r=-0.XX)\n",
        "   - [Ville] présente un profil climatique unique dû à [caractéristique]"
      ]
    }
  ],
  "metadata": {
    "kernelspec": {
      "display_name": "Python 3",
      "language": "python",
      "name": "python3"
    },
    "language_info": {
      "codemirror_mode": {
        "name": "ipython",
        "version": 3
      },
      "file_extension": ".py",
      "mimetype": "text/x-python",
      "name": "python",
      "nbconvert_exporter": "python",
      "pygments_lexer": "ipython3",
      "version": "3.13.5"
    }
  },
  "nbformat": 4,
  "nbformat_minor": 5
}
